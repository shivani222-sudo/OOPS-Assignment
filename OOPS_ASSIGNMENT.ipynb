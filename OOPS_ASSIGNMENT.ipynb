{
  "nbformat": 4,
  "nbformat_minor": 0,
  "metadata": {
    "colab": {
      "provenance": []
    },
    "kernelspec": {
      "name": "python3",
      "display_name": "Python 3"
    },
    "language_info": {
      "name": "python"
    }
  },
  "cells": [
    {
      "cell_type": "markdown",
      "source": [
        "THEORY QUESTION\n",
        "\n",
        "1. What is Object-Oriented Programming (OOP)?\n",
        "\n",
        "ANS.1. Object-Oriented Programming (OOP) is a programming paradigm that organizes software design around objects rather than functions and logic.\n",
        "Objects represent real-world entities and contain two things:\n",
        "\n",
        "Attributes (data/state) → variables inside a class.\n",
        "\n",
        "Methods (behavior) → functions that operate on the data.\n",
        "\n",
        "2. What is a class in OOP?\n",
        "\n",
        "ANS.2. A class is a blueprint or template for creating objects.\n",
        "It defines attributes (variables) and methods (functions) that describe the behavior of the objects.\n",
        "\n",
        "3. What is an object in OOP?\n",
        "\n",
        "ANS.3. An object is an instance of a class.\n",
        "It represents a real-world entity with its own state (data) and behavior (methods).\n",
        "\n",
        "4. What is the difference between abstraction and encapsulation?\n",
        "\n",
        "ANS.4. Abstraction → Hides implementation details and shows only necessary features (focuses on what).\n",
        "\n",
        "Encapsulation → Bundles data and methods into a single unit (class) and restricts direct access using private/protected attributes (focuses on how).\n",
        "\n",
        "5. What are dunder methods in Python?\n",
        "\n",
        "ANS.5. Dunder methods (also called magic methods or special methods) are built-in methods in Python with names that start and end with double underscores (__).\n",
        "\n",
        "They allow you to customize the behavior of objects and define how objects interact with Python operators, functions, and built-in features.\n",
        "\n",
        "6. Explain the concept of inheritance in OOP?\n",
        "\n",
        "ANS.6. Inheritance allows a class (child/subclass) to acquire properties and methods of another class (parent/superclass).\n",
        "It promotes code reusability and hierarchical classification.\n",
        "\n",
        "7. What is polymorphism in OOP?\n",
        "\n",
        "ANS.7. Polymorphism means \"many forms\".\n",
        "It allows the same function/method to behave differently based on the object calling it (e.g., method overriding).\n",
        "\n",
        "8. How is encapsulation achieved in Python?\n",
        "\n",
        "ANS.8. Encapsulation is achieved using access specifiers:\n",
        "\n",
        "Public: self.var\n",
        "\n",
        "Protected: _var\n",
        "\n",
        "Private: __var\n",
        "\n",
        "It controls data hiding and secure access.\n",
        "\n",
        "9. What is a constructor in Python?\n",
        "\n",
        "ANS.9. The __init__ method in Python is a constructor.\n",
        "It automatically initializes object attributes when an object is created\n",
        "\n",
        "10. What are class and static methods in Python?\n",
        "\n",
        "ANS.10.Class method (@classmethod) → Takes cls as the first argument, can access/modify class-level data.\n",
        "\n",
        "Static method (@staticmethod) → Does not take self/cls, works like a normal function inside class (utility).\n",
        "\n",
        "11. What is method overloading in Python?\n",
        "\n",
        "ANS.11. Python doesn’t support true method overloading (like Java).\n",
        "Instead, we achieve it using:\n",
        "\n",
        "Default arguments\n",
        "\n",
        "Variable arguments (*args, **kwargs).\n",
        "\n",
        "12. What is method overriding in OOP?\n",
        "\n",
        "ANS.12. When a child class redefines a method already defined in the parent class, it’s called overriding.\n",
        "It enables runtime polymorphism.\n",
        "\n",
        "13. What is a property decorator in Python?\n",
        "\n",
        "ANS.13. @property converts a method into an attribute-like access.\n",
        "It is used for getter/setter methods, enforcing encapsulation.\n",
        "\n",
        "14. Why is polymorphism important in OOP?\n",
        "\n",
        "ANS.14. Polymorphism Promotes flexibility and code reusability.\n",
        "It supports designing extensible systems (same interface, different implementations)\n",
        "\n",
        "15. What is an abstract class in Python?\n",
        "\n",
        "ANS.15. An abstract class (from abc module) contains abstract methods (declared but not implemented).\n",
        "It cannot be instantiated directly, only subclassed.\n",
        "\n",
        "16. What are the advantages of OOP?\n",
        "\n",
        "ANS.16. Code reusability (inheritance)\n",
        "\n",
        "Modularity (classes/objects)\n",
        "\n",
        "Data security (encapsulation)\n",
        "\n",
        "Scalability and maintainability.\n",
        "\n",
        "17.What is the difference between a class variable and an instance variable?\n",
        "- Class Variable\n",
        "\n",
        "ANS.17. It Belongs to the class itself, not to any particular object.\n",
        "\n",
        "It Shared by all objects of the class.\n",
        "\n",
        "It is defined inside the class but outside methods.\n",
        "\n",
        "It Changing it affects all instances (unless overridden in that instance).\n",
        "\n",
        "- Instance Variable\n",
        "\n",
        "It Belongs to a specific object (instance).\n",
        "\n",
        "It is Unique to each object.\n",
        "\n",
        "It is defined usually inside the constructor (__init__) using self.\n",
        "\n",
        "It Changing it affects only that object.\n",
        "\n",
        "18. What is multiple inheritance in Python?\n",
        "\n",
        "ANS.18. A class can inherit from more than one parent class.\n",
        "Python resolves conflicts using Method Resolution Order (MRO).\n",
        "\n",
        "19. Explain the purpose of ‘’__str__’ and ‘__repr__’ ‘ methods in Python?\n",
        "\n",
        "ANS.19. __str__: Returns user-friendly string representation (used with print()).\n",
        "\n",
        "__repr__: Returns developer-friendly string (for debugging)\n",
        "\n",
        "20. What is the significance of the ‘super()’ function in Python?\n",
        "\n",
        "ANS.20. super() is used to call methods of the parent class.\n",
        "Commonly used in constructors to initialize parent attributes\n",
        "\n",
        "21. What is the significance of the __del__ method in Python?\n",
        "\n",
        "ANS.21. __del__ is a destructor, called when an object is garbage-collected.\n",
        "Used for cleanup tasks.\n",
        "\n",
        "22. What is the difference between @staticmethod and @classmethod in Python?\n",
        "\n",
        "ANS.22. @staticmethod → No self or cls, works independently.\n",
        "\n",
        "@classmethod → Receives cls, modifies class-level state.\n",
        "\n",
        "23. How does polymorphism work in Python with inheritance?\n",
        "\n",
        "Overriding methods in child classes → same method name, different implementation.\n",
        "\n",
        "ANS.23. Python uses dynamic method dispatch to decide which version to call at runtime.\n",
        "\n",
        "24. What is method chaining in Python OOP?\n",
        "\n",
        "Method chaining means calling multiple methods on the same object in a single line, by having each method return self.\n",
        "\n",
        "This makes the code cleaner and more fluent.\n",
        "\n",
        "25. What is the purpose of the __call__ method in Python?\n",
        "\n",
        "The __call__ method makes an object callable like a function.\n",
        "If a class defines __call__, then instances of that class can be used with parentheses () just like functions."
      ],
      "metadata": {
        "id": "4vOf6huKhgkh"
      }
    },
    {
      "cell_type": "code",
      "execution_count": null,
      "metadata": {
        "colab": {
          "base_uri": "https://localhost:8080/"
        },
        "id": "V50iE_W-g_gj",
        "outputId": "c0ee438c-0fc7-4fab-b488-c403c4c1c65a"
      },
      "outputs": [
        {
          "output_type": "stream",
          "name": "stdout",
          "text": [
            "animal sound\n",
            "bark\n"
          ]
        }
      ],
      "source": [
        "# PRACTICAL QUESTION\n",
        "# 1. Create a parent class Animal with a method speak() that prints a generic message. Create a child class Dog\n",
        "# that overrides the speak() method to print \"Bark!\".\n",
        "\n",
        "class Animal:\n",
        "    def speak(self):\n",
        "        print(\"animal sound\")\n",
        "class Dog(Animal):\n",
        "    def speak(self):\n",
        "        print(\"bark\")\n",
        "\n",
        "animal = Animal()\n",
        "animal.speak()\n",
        "dog = Dog()\n",
        "dog.speak()"
      ]
    },
    {
      "cell_type": "code",
      "source": [
        "# 2. Write a program to create an abstract class Shape with a method area(). Derive classes Circle and Rectangle\n",
        "# from it and implement the area() method in both.\n",
        "\n",
        "from abc import ABC, abstractmethod\n",
        "\n",
        "class Shape(ABC):\n",
        "    @abstractmethod\n",
        "    def area(self):\n",
        "        pass\n",
        "\n",
        "class Circle(Shape):\n",
        "    def area(self, radius):\n",
        "        return 3.14 * radius * radius\n",
        "class Rectangle(Shape):\n",
        "    def area(self,length,width):\n",
        "      return length * width\n",
        "c1 = Circle()\n",
        "c1.area(5)\n",
        "\n",
        "R1 = Rectangle()\n",
        "R1.area(5,6)"
      ],
      "metadata": {
        "colab": {
          "base_uri": "https://localhost:8080/"
        },
        "id": "X12sH8Ouz5-m",
        "outputId": "b1214777-0bcb-4c99-c1b4-03317ba220b2"
      },
      "execution_count": null,
      "outputs": [
        {
          "output_type": "execute_result",
          "data": {
            "text/plain": [
              "30"
            ]
          },
          "metadata": {},
          "execution_count": 9
        }
      ]
    },
    {
      "cell_type": "code",
      "source": [
        "# 3. Implement a multi-level inheritance scenario where a class Vehicle has an attribute type. Derive a class Car\n",
        "# and further derive a class ElectricCar that adds a battery attribute.\n",
        "\n",
        "class Vehicle:\n",
        "    def __init__(self,type):\n",
        "        self.type = type\n",
        "        print(\"VEHICLE\")\n",
        "class Car(Vehicle):\n",
        "    def __init__(self,color):\n",
        "        self.color = color\n",
        "        print(\"CAR\")\n",
        "class ElectricCar(Car):\n",
        "    def __init__(self,battery):\n",
        "        self.battery = battery\n",
        "        print(\"ELECTRIC CAR\")\n",
        "\n",
        "C1 = Car(\"SUV\")\n",
        "print(C1.type)\n",
        "\n",
        "E1 = ElectricCar(\"Sedan\")\n",
        "print(E1.type)"
      ],
      "metadata": {
        "colab": {
          "base_uri": "https://localhost:8080/",
          "height": 228
        },
        "id": "Upq49g0J2RmF",
        "outputId": "3485f262-91e1-4fbd-eec5-f9c19d7362ee"
      },
      "execution_count": 43,
      "outputs": [
        {
          "output_type": "stream",
          "name": "stdout",
          "text": [
            "CAR\n"
          ]
        },
        {
          "output_type": "error",
          "ename": "AttributeError",
          "evalue": "'Car' object has no attribute 'type'",
          "traceback": [
            "\u001b[0;31m---------------------------------------------------------------------------\u001b[0m",
            "\u001b[0;31mAttributeError\u001b[0m                            Traceback (most recent call last)",
            "\u001b[0;32m/tmp/ipython-input-2883539747.py\u001b[0m in \u001b[0;36m<cell line: 0>\u001b[0;34m()\u001b[0m\n\u001b[1;32m     16\u001b[0m \u001b[0;34m\u001b[0m\u001b[0m\n\u001b[1;32m     17\u001b[0m \u001b[0mC1\u001b[0m \u001b[0;34m=\u001b[0m \u001b[0mCar\u001b[0m\u001b[0;34m(\u001b[0m\u001b[0;34m\"SUV\"\u001b[0m\u001b[0;34m)\u001b[0m\u001b[0;34m\u001b[0m\u001b[0;34m\u001b[0m\u001b[0m\n\u001b[0;32m---> 18\u001b[0;31m \u001b[0mprint\u001b[0m\u001b[0;34m(\u001b[0m\u001b[0mC1\u001b[0m\u001b[0;34m.\u001b[0m\u001b[0mtype\u001b[0m\u001b[0;34m)\u001b[0m\u001b[0;34m\u001b[0m\u001b[0;34m\u001b[0m\u001b[0m\n\u001b[0m\u001b[1;32m     19\u001b[0m \u001b[0;34m\u001b[0m\u001b[0m\n\u001b[1;32m     20\u001b[0m \u001b[0mE1\u001b[0m \u001b[0;34m=\u001b[0m \u001b[0mElectricCar\u001b[0m\u001b[0;34m(\u001b[0m\u001b[0;34m\"Sedan\"\u001b[0m\u001b[0;34m)\u001b[0m\u001b[0;34m\u001b[0m\u001b[0;34m\u001b[0m\u001b[0m\n",
            "\u001b[0;31mAttributeError\u001b[0m: 'Car' object has no attribute 'type'"
          ]
        }
      ]
    },
    {
      "cell_type": "code",
      "source": [
        "# 4. Demonstrate polymorphism by creating a base class Bird with a method fly(). Create two derived classes\n",
        "# Sparrow and Penguin that override the fly() method.\n",
        "\n",
        "class Bird:\n",
        "    def fly(self):\n",
        "        print(\"Bird flying\")\n",
        "\n",
        "class Sparrow(Bird):\n",
        "    def fly(self):\n",
        "        print(\"Sparrow flying\")\n",
        "\n",
        "class Penguin(Bird):\n",
        "    def fly(self):\n",
        "        print(\"Penguin is swimming\")\n",
        "\n",
        "bird = Bird()\n",
        "bird.fly()"
      ],
      "metadata": {
        "colab": {
          "base_uri": "https://localhost:8080/"
        },
        "id": "v1ulfhad8BNP",
        "outputId": "0bfdae04-db04-4553-9fc6-b237b9d8e6e4"
      },
      "execution_count": null,
      "outputs": [
        {
          "output_type": "stream",
          "name": "stdout",
          "text": [
            "Bird flying\n"
          ]
        }
      ]
    },
    {
      "cell_type": "code",
      "source": [
        "# 5. Write a program to demonstrate encapsulation by creating a class BankAccount with private attributes\n",
        "# balance and methods to deposit, withdraw, and check balance.\n",
        "class BankAccount:\n",
        "    def __init__(self, initial_balance=0):\n",
        "        # private attribute\n",
        "        self.__balance = initial_balance\n",
        "\n",
        "    def deposit(self, amount):\n",
        "        if amount > 0:\n",
        "            self.__balance += amount\n",
        "            print(f\"Deposited: {amount}\")\n",
        "        else:\n",
        "            print(\"Deposit amount must be positive.\")\n",
        "\n",
        "    def withdraw(self, amount):\n",
        "        if 0 < amount <= self.__balance:\n",
        "            self.__balance -= amount\n",
        "            print(f\"Withdrew: {amount}\")\n",
        "        else:\n",
        "            print(\"Insufficient balance or invalid amount.\")\n",
        "\n",
        "    def check_balance(self):\n",
        "        return self.__balance\n",
        "\n",
        "account = BankAccount(1000)\n",
        "account.deposit(500)\n",
        "account.withdraw(300)\n",
        "print(\"Current Balance:\", account.check_balance())\n",
        "print(account._BankAccount__balance)\n"
      ],
      "metadata": {
        "id": "RfsyFheF9tBA",
        "colab": {
          "base_uri": "https://localhost:8080/"
        },
        "outputId": "177d62be-7edf-47e3-de84-caa886bd9688"
      },
      "execution_count": 44,
      "outputs": [
        {
          "output_type": "stream",
          "name": "stdout",
          "text": [
            "Deposited: 500\n",
            "Withdrew: 300\n",
            "Current Balance: 1200\n",
            "1200\n"
          ]
        }
      ]
    },
    {
      "cell_type": "code",
      "source": [
        "# 6. Demonstrate runtime polymorphism using a method play() in a base class Instrument. Derive classes Guitar\n",
        "# and Piano that implement their own version of play().\n",
        "\n",
        "class Instrument:\n",
        "    def play(self):\n",
        "        print(\"Instrument playing\")\n",
        "\n",
        "class Guitar(Instrument):\n",
        "    def play(self):\n",
        "        print(\"Guitar playing\")\n",
        "\n",
        "class Piano(Instrument):\n",
        "    def play(self):\n",
        "        print(\"Piano playing\")\n",
        "\n",
        "p = Piano()\n",
        "p.play()\n",
        "\n"
      ],
      "metadata": {
        "colab": {
          "base_uri": "https://localhost:8080/"
        },
        "id": "hbDGIq29KIxe",
        "outputId": "dbb8461f-b47b-4dfd-8a57-97c28d9ef774"
      },
      "execution_count": null,
      "outputs": [
        {
          "output_type": "stream",
          "name": "stdout",
          "text": [
            "Piano playing\n"
          ]
        }
      ]
    },
    {
      "cell_type": "code",
      "source": [
        "# 7. Create a class MathOperations with a class method add_numbers() to add two numbers and a static\n",
        "# method subtract_numbers() to subtract two numbers\n",
        "\n",
        "class MathOperations:\n",
        "    @classmethod\n",
        "    def add_numbers(cls, a, b):\n",
        "        return a + b\n",
        "    @staticmethod\n",
        "    def subtract_numbers(a, b):\n",
        "        return a - b\n",
        "print(MathOperations.add_numbers(10, 5))\n",
        "print(MathOperations.subtract_numbers(10, 5))"
      ],
      "metadata": {
        "colab": {
          "base_uri": "https://localhost:8080/"
        },
        "id": "P-WWeDKeMaGp",
        "outputId": "0ca92aa7-fd49-428c-e59a-fc1c18b019ad"
      },
      "execution_count": null,
      "outputs": [
        {
          "output_type": "stream",
          "name": "stdout",
          "text": [
            "15\n",
            "5\n"
          ]
        }
      ]
    },
    {
      "cell_type": "code",
      "source": [
        "# 8. Implement a class Person with a class method to count the total number of persons created.\n",
        "\n",
        "class Person:\n",
        "    count = 0\n",
        "    def __init__(self):\n",
        "      Person.count += 1\n",
        "    @classmethod\n",
        "    def get_count(cls):\n",
        "        return Person.count\n",
        "p1 = Person()\n",
        "p2 = Person()\n",
        "p3 = Person()\n",
        "print(Person.get_count())\n"
      ],
      "metadata": {
        "colab": {
          "base_uri": "https://localhost:8080/"
        },
        "id": "jHW3Kso4QDF7",
        "outputId": "03a8db72-a0f2-4d30-855b-975971a10c16"
      },
      "execution_count": null,
      "outputs": [
        {
          "output_type": "stream",
          "name": "stdout",
          "text": [
            "3\n"
          ]
        }
      ]
    },
    {
      "cell_type": "code",
      "source": [
        "# 9. Write a class Fraction with attributes numerator and denominator. Override the str method to display the\n",
        "# fraction as \"numerator/denominator\".\n",
        "\n",
        "class Fraction:\n",
        "    def __init__(self, numerator, denominator):\n",
        "        self.numerator = numerator\n",
        "        self.denominator = denominator\n",
        "    def __str__(self):\n",
        "        return f\"{self.numerator}/{self.denominator}\"\n",
        "f1 = Fraction(1,2)\n",
        "print(f1)"
      ],
      "metadata": {
        "colab": {
          "base_uri": "https://localhost:8080/"
        },
        "id": "a0DaGkwzQ1Eh",
        "outputId": "46f9e58b-f7f5-4f2e-aeb9-86c4e0ae9ee6"
      },
      "execution_count": null,
      "outputs": [
        {
          "output_type": "stream",
          "name": "stdout",
          "text": [
            "1/2\n"
          ]
        }
      ]
    },
    {
      "cell_type": "code",
      "source": [
        "# 10. Demonstrate operator overloading by creating a class Vector and overriding the add method to add two\n",
        "# vectors\n",
        "class Vector:\n",
        "    def __init__(self, x, y):\n",
        "        self.x = x\n",
        "        self.y = y\n",
        "\n",
        "    def __add__(self, other):\n",
        "        return Vector(self.x + other.x, self.y + other.y)\n",
        "\n",
        "    def __str__(self):\n",
        "        return f\"({self.x}, {self.y})\"\n",
        "\n",
        "\n",
        "v1 = Vector(1, 2)\n",
        "v2 = Vector(3, 4)\n",
        "v3 = v1 + v2\n",
        "\n",
        "print(v3)\n"
      ],
      "metadata": {
        "id": "qOF3ziNlTtsi",
        "colab": {
          "base_uri": "https://localhost:8080/"
        },
        "outputId": "7f8de354-9848-4fc6-ad83-4dd51095af6f"
      },
      "execution_count": 29,
      "outputs": [
        {
          "output_type": "stream",
          "name": "stdout",
          "text": [
            "(4, 6)\n"
          ]
        }
      ]
    },
    {
      "cell_type": "code",
      "source": [
        "# 11. Create a class Person with attributes name and age. Add a method greet() that prints \"Hello, my name is\n",
        "# {name} and I am {age} years old.\"\n",
        "\n",
        "class Person:\n",
        "  def __init__(self,name,age):\n",
        "    self.name = name\n",
        "    self.age = age\n",
        "  def greet(self):\n",
        "    print(f\"Hello, my name is {self.name} and I am {self.age} years old.\")\n",
        "p1 = Person(\"John\", 25)\n",
        "p1.greet()"
      ],
      "metadata": {
        "colab": {
          "base_uri": "https://localhost:8080/"
        },
        "id": "Jwk38mNWVUht",
        "outputId": "991a0a19-f32c-4e77-ac29-ff5c8882304a"
      },
      "execution_count": null,
      "outputs": [
        {
          "output_type": "stream",
          "name": "stdout",
          "text": [
            "Hello, my name is John and I am 25 years old.\n"
          ]
        }
      ]
    },
    {
      "cell_type": "code",
      "source": [
        "# 12. Implement a class Student with attributes name and grades. Create a method average_grade() to compute\n",
        "# the average of the grades.\n",
        "\n",
        "class Student:\n",
        "    def __init__(self, name , grades):\n",
        "        self.name = name\n",
        "        self.grades = grades\n",
        "    def average_grade(self):\n",
        "        return sum(self.grades) / len(self.grades)\n",
        "\n",
        "s1 = Student(\"John\", [80, 90, 75])\n",
        "s1.average_grade()\n"
      ],
      "metadata": {
        "colab": {
          "base_uri": "https://localhost:8080/"
        },
        "id": "BYcQxR6bWbOc",
        "outputId": "fd6c20f5-8e53-45f2-8432-bbbfa2168a6a"
      },
      "execution_count": null,
      "outputs": [
        {
          "output_type": "execute_result",
          "data": {
            "text/plain": [
              "81.66666666666667"
            ]
          },
          "metadata": {},
          "execution_count": 27
        }
      ]
    },
    {
      "cell_type": "code",
      "source": [
        "# 13. Create a class Rectangle with methods set_dimensions() to set the dimensions and area() to calculate the\n",
        "# area.\n",
        "\n",
        "class Rectangle:\n",
        "  def set_dimensions(self, length, width):\n",
        "    self.length = length\n",
        "    self.width = width\n",
        "  def area(self):\n",
        "    return self.length * self.width\n",
        "\n",
        "r1 = Rectangle()\n",
        "r1.set_dimensions(5, 10)\n",
        "r1.area()\n"
      ],
      "metadata": {
        "colab": {
          "base_uri": "https://localhost:8080/"
        },
        "id": "zLXDKYQsXtqv",
        "outputId": "c57016f3-8037-4146-9071-69d6fe74738b"
      },
      "execution_count": null,
      "outputs": [
        {
          "output_type": "execute_result",
          "data": {
            "text/plain": [
              "50"
            ]
          },
          "metadata": {},
          "execution_count": 31
        }
      ]
    },
    {
      "cell_type": "code",
      "source": [
        "# 14. Create a class Employee with a method calculate_salary() that computes the salary based on hours worked\n",
        "# and hourly rate. Create a derived class Manager that adds a bonus to the salary.\n",
        "\n",
        "class Employee:\n",
        "    def __init__(self, name, hours_worked, hourly_rate):\n",
        "        self.name = name\n",
        "        self.hours_worked = hours_worked\n",
        "        self.hourly_rate = hourly_rate\n",
        "\n",
        "    def calculate_salary(self):\n",
        "        return self.hours_worked * self.hourly_rate\n",
        "\n",
        "class Manager(Employee):\n",
        "    def __init__(self, name, hours_worked, hourly_rate, bonus):\n",
        "        super().__init__(name, hours_worked, hourly_rate)\n",
        "        self.bonus = bonus\n",
        "emp1 = Employee(\"Alice\", 40, 500)\n",
        "mgr1 = Manager(\"Bob\", 45, 600, 10000)\n",
        "\n",
        "print(f\"Employee Salary ({emp1.name}): {emp1.calculate_salary()}\")\n",
        "print(f\"Manager Salary ({mgr1.name}): {mgr1.calculate_salary()}\")"
      ],
      "metadata": {
        "id": "yr0OQHA4YOPd",
        "colab": {
          "base_uri": "https://localhost:8080/"
        },
        "outputId": "1539ea48-0cde-420b-953b-a43e0773a186"
      },
      "execution_count": 17,
      "outputs": [
        {
          "output_type": "stream",
          "name": "stdout",
          "text": [
            "Employee Salary (Alice): 20000\n",
            "Manager Salary (Bob): 27000\n"
          ]
        }
      ]
    },
    {
      "cell_type": "code",
      "source": [
        "# 15. Create a class Product with attributes name, price, and quantity. Implement a method total_price() that\n",
        "# calculates the total price of the product.\n",
        "\n",
        "class Product:\n",
        "    def __init__(self, name, price, quantity):\n",
        "        self.name = name\n",
        "        self.price = price\n",
        "        self.quantity = quantity\n",
        "    def total_price(self):\n",
        "        return self.price * self.quantity\n",
        "p1 = Product(\"Laptop\", 50000, 2)\n",
        "p1.total_price()"
      ],
      "metadata": {
        "id": "liX5gBwgYgFX",
        "colab": {
          "base_uri": "https://localhost:8080/"
        },
        "outputId": "53634a8c-66df-4894-8660-df1c50e2f50e"
      },
      "execution_count": 1,
      "outputs": [
        {
          "output_type": "execute_result",
          "data": {
            "text/plain": [
              "100000"
            ]
          },
          "metadata": {},
          "execution_count": 1
        }
      ]
    },
    {
      "cell_type": "code",
      "source": [
        "# 16. Create a class Animal with an abstract method sound(). Create two derived classes Cow and Sheep that\n",
        "# implement the sound() method.\n",
        "\n",
        "from abc import ABC, abstractmethod\n",
        "\n",
        "class Animal(ABC):\n",
        "    @abstractmethod\n",
        "    def sound(self):\n",
        "        pass\n",
        "\n",
        "class Cow(Animal):\n",
        "    def sound(self):\n",
        "        print(\"ewwww\")\n",
        "\n",
        "class Sheep(Animal):\n",
        "    def sound(self):\n",
        "        print(\"baa\")\n",
        "\n",
        "c1 = Cow()\n",
        "c1.sound()\n",
        "\n",
        "s1 = Sheep()\n",
        "s1.sound()"
      ],
      "metadata": {
        "id": "9stL8iGyYkMA",
        "colab": {
          "base_uri": "https://localhost:8080/"
        },
        "outputId": "454b6a48-a8a0-4366-da06-26af0788ab50"
      },
      "execution_count": 2,
      "outputs": [
        {
          "output_type": "stream",
          "name": "stdout",
          "text": [
            "ewwww\n",
            "baa\n"
          ]
        }
      ]
    },
    {
      "cell_type": "code",
      "source": [
        "# 17. Create a class Book with attributes title, author, and year_published. Add a method get_book_info() that\n",
        "# returns a formatted string with the book's details.\n",
        "\n",
        "class Book:\n",
        "    def __init__(self, title, author, year_published):\n",
        "        self.title = title\n",
        "        self.author = author\n",
        "        self.year_published = year_published\n",
        "    def get_book_info(self):\n",
        "        return f\"Title: {self.title}\\nAuthor: {self.author}\\nYear Published: {self.year_published}\"\n",
        "\n",
        "b1 = Book(\"The art of not overthinking\", \"Shaurya Kapoor\", 2018)\n",
        "print(b1.get_book_info())"
      ],
      "metadata": {
        "id": "_7OIAlTxYq2G",
        "colab": {
          "base_uri": "https://localhost:8080/"
        },
        "outputId": "312e4bec-4fd6-4851-af6f-6a4e49983b73"
      },
      "execution_count": 9,
      "outputs": [
        {
          "output_type": "stream",
          "name": "stdout",
          "text": [
            "Title: The art of not overthinking\n",
            "Author: Shaurya Kapoor\n",
            "Year Published: 2018\n"
          ]
        }
      ]
    },
    {
      "cell_type": "code",
      "source": [
        "# 18. Create a class House with attributes address and price. Create a derived class Mansion that adds an\n",
        "# attribute number_of_rooms.\n",
        "\n",
        "class House:\n",
        "    def __init__(self, address, price):\n",
        "        self.address = address\n",
        "        self.price = price\n",
        "class Mansion(House):\n",
        "    def __init__(self, address, price, number_of_rooms):\n",
        "        super().__init__(address, price)\n",
        "        self.number_of_rooms = number_of_rooms\n",
        "\n",
        "H1 = House(\"D-39,Keshav nagar\", 250000)\n",
        "print(H1.address, H1.price)\n",
        "\n",
        "M1 = Mansion(\"D-76,Numaish camp\", 500000, 5)\n",
        "print(M1.address, M1.price, M1.number_of_rooms)"
      ],
      "metadata": {
        "id": "IpdVSiIoY9dX",
        "colab": {
          "base_uri": "https://localhost:8080/"
        },
        "outputId": "fc171476-29dd-49a4-cff4-572783f134ea"
      },
      "execution_count": 16,
      "outputs": [
        {
          "output_type": "stream",
          "name": "stdout",
          "text": [
            "D-39,Keshav nagar 250000\n",
            "D-76,Numaish camp 500000 5\n"
          ]
        }
      ]
    }
  ]
}